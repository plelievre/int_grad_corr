{
 "cells": [
  {
   "cell_type": "markdown",
   "metadata": {},
   "source": [
    "# Integrated Gradient Correlation\n",
    "## Example on models predicting localized image statistics from natural images"
   ]
  },
  {
   "cell_type": "markdown",
   "metadata": {},
   "source": [
    "### Download and unpack images from the NSD dataset (73k images)\n",
    "\n",
    "- It requires a working Amazon S3 client (AWS)\n",
    "\n",
    "```sh\n",
    "python igcbenchmark/download_data.py\n",
    "```"
   ]
  },
  {
   "cell_type": "markdown",
   "metadata": {},
   "source": [
    "### Compute image std values"
   ]
  },
  {
   "cell_type": "code",
   "execution_count": null,
   "metadata": {},
   "outputs": [],
   "source": [
    "from igcbenchmark.image_1v0 import ImgSet\n",
    "\n",
    "img_type = 'log2_Y'\n",
    "\n",
    "imst = ImgSet(img_type).compute_std_values()"
   ]
  },
  {
   "cell_type": "markdown",
   "metadata": {},
   "source": [
    "### Compute localized image statistics and std values"
   ]
  },
  {
   "cell_type": "code",
   "execution_count": null,
   "metadata": {},
   "outputs": [],
   "source": [
    "from igcbenchmark.imgstat_1v0 import ImgStatSet, ImgStatsExtractor\n",
    "\n",
    "imgstat_set_names = (\n",
    "    'comb_01-log2_Y-w_sum',            # Exp.A : scalar\n",
    "    'ccat_01-log2_Y-max_mean',         # Exp.B : scalar\n",
    "    'ccat_04-log2_Y-max_sim_rand',     # Exp.C : scalar\n",
    "    'ccat_03-log2_Y-argmax_sim_rand',  # Exp.D : categorical\n",
    ")\n",
    "extract_kwargs = (\n",
    "    None,\n",
    "    None,\n",
    "    {'probs': (0.0, 0.5)},\n",
    "    {'permute': True})\n",
    "img_size = 64\n",
    "\n",
    "for imst_name, ext_kw in zip(imgstat_set_names, extract_kwargs):\n",
    "    extractor = ImgStatsExtractor(imst_name, img_size)\n",
    "    extractor.extract(batch_size=100, num_workers=8, extract_kwargs=ext_kw)\n",
    "\n",
    "    imst_set = ImgStatSet(imst_name).load()\n",
    "    imst_set.compute_std_values()"
   ]
  },
  {
   "cell_type": "markdown",
   "metadata": {},
   "source": [
    "### Init dataset and model"
   ]
  },
  {
   "cell_type": "code",
   "execution_count": null,
   "metadata": {},
   "outputs": [],
   "source": [
    "import numpy as np\n",
    "# For scalar outputs\n",
    "from igcbenchmark.model_msk_stat_1v0 import Dataset, Model\n",
    "# For categorical outputs\n",
    "# from igcbenchmark.model_msk_stat_cat_1v0 import Dataset, Model\n",
    "\n",
    "imgstat_set_name = 'comb_01-log2_Y-w_sum'\n",
    "# imgstat_set_name = 'ccat_01-log2_Y-max_mean'\n",
    "# imgstat_set_name = 'ccat_04-log2_Y-max_sim_rand'\n",
    "# imgstat_set_name = 'ccat_03-log2_Y-argmax_sim_rand'\n",
    "img_size = 64\n",
    "img_aug = True\n",
    "imst_aug_std = None\n",
    "val_ratio = 0.1\n",
    "seed = 100\n",
    "device = 'cpu'\n",
    "# device = 'cuda'\n",
    "model_name = 'msk_stat_1v0_a000'\n",
    "\n",
    "parameters = {\n",
    "    'conv_stem_kernel': 2, 'conv_sizes': (16, 32, 64, 128, 256),\n",
    "    'lin_sizes': (128, 16), 'learning_rate': 5e-5, 'seed': seed,\n",
    "}\n",
    "\n",
    "dataset = Dataset(\n",
    "    imgstat_set_name, img_size, img_aug, imst_aug_std, val_ratio, seed)\n",
    "model = Model(\n",
    "    dataset, model_name, trainable=True, device=device, parameters=parameters)"
   ]
  },
  {
   "cell_type": "markdown",
   "metadata": {},
   "source": [
    "### Train model"
   ]
  },
  {
   "cell_type": "code",
   "execution_count": null,
   "metadata": {},
   "outputs": [],
   "source": [
    "model.train(n_epoch=50, batch_size=64, num_workers=16)"
   ]
  },
  {
   "cell_type": "markdown",
   "metadata": {},
   "source": [
    "### Compute R2 score"
   ]
  },
  {
   "cell_type": "code",
   "execution_count": null,
   "metadata": {},
   "outputs": [],
   "source": [
    "r2_score, _ = model.score(batch_size=100)\n",
    "print('r2', np.round(np.mean(r2_score), 4))"
   ]
  },
  {
   "cell_type": "markdown",
   "metadata": {},
   "source": [
    "### Compute IGC"
   ]
  },
  {
   "cell_type": "code",
   "execution_count": null,
   "metadata": {},
   "outputs": [],
   "source": [
    "_ = model.int_grad_corr(\n",
    "    x_0=8, n_steps=64, x_batch_size=100, x_0_seed=100, check_error=True,\n",
    "    num_workers=8)"
   ]
  },
  {
   "cell_type": "markdown",
   "metadata": {},
   "source": [
    "### Check IGC error"
   ]
  },
  {
   "cell_type": "code",
   "execution_count": null,
   "metadata": {},
   "outputs": [],
   "source": [
    "_ = model.igc_error(f'int_grad_corr.npz', x_batch_size=100)"
   ]
  },
  {
   "cell_type": "markdown",
   "metadata": {},
   "source": [
    "### Visualize IGC attributions"
   ]
  },
  {
   "cell_type": "code",
   "execution_count": null,
   "metadata": {},
   "outputs": [],
   "source": [
    "import matplotlib.pyplot as plt\n",
    "\n",
    "igc = np.load(model.get_result_path('int_grad_corr.npz'))['data'][0]\n",
    "\n",
    "fig, ax = plt.subplots(\n",
    "    1, 1, figsize=(4, 4),\n",
    "    gridspec_kw = {'top': 0.85, 'bottom': 0.01, 'left': 0.01, 'right': 0.99})\n",
    "\n",
    "ax.axis('off')\n",
    "ax.annotate(\n",
    "    imgstat_set_name, (0.5, 1.05), va='bottom',\n",
    "    ha='center', xycoords='axes fraction')\n",
    "v_max = 1.25 * np.quantile(np.abs(igc), 0.99)\n",
    "ax.imshow(\n",
    "    igc, cmap='RdBu_r', vmin=-1.0*v_max, vmax=v_max,\n",
    "    extent=(-0.5, 0.5, -0.5, 0.5), interpolation='nearest')\n",
    "rect = plt.Rectangle(\n",
    "    (-0.5, -0.5), 1.0, 1.0, fill=False, color='k', linewidth=1.0)\n",
    "ax.add_patch(rect)"
   ]
  }
 ],
 "metadata": {
  "kernelspec": {
   "display_name": "Python 3",
   "language": "python",
   "name": "python3"
  },
  "language_info": {
   "codemirror_mode": {
    "name": "ipython",
    "version": 3
   },
   "file_extension": ".py",
   "mimetype": "text/x-python",
   "name": "python",
   "nbconvert_exporter": "python",
   "pygments_lexer": "ipython3",
   "version": "3.10.16"
  }
 },
 "nbformat": 4,
 "nbformat_minor": 2
}
