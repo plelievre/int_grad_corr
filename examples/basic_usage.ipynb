{
 "cells": [
  {
   "cell_type": "markdown",
   "id": "94d333b4",
   "metadata": {},
   "source": [
    "# Basic Usage"
   ]
  },
  {
   "cell_type": "markdown",
   "id": "d7063d6b",
   "metadata": {},
   "source": [
    "## Create a dataset"
   ]
  },
  {
   "cell_type": "code",
   "execution_count": null,
   "id": "cbcc3e8c",
   "metadata": {},
   "outputs": [],
   "source": [
    "import torch\n",
    "import torch.nn as nn\n",
    "from torch.utils.data import Dataset as TorchDataset\n",
    "\n",
    "\n",
    "class Dataset(TorchDataset):\n",
    "    def __init__(self, n_samples, x_size, seed=None):\n",
    "        self.n_samples = n_samples\n",
    "        self.x_size = x_size\n",
    "        # Random generator\n",
    "        self.rng = None\n",
    "        if seed is not None:\n",
    "            self.rng = torch.Generator().manual_seed(seed)\n",
    "\n",
    "    def __len__(self):\n",
    "        return self.n_samples\n",
    "\n",
    "    def __getitem__(self, idx):\n",
    "        x = torch.rand(self.x_size, generator=self.rng)\n",
    "        y = x.mean()\n",
    "        return x, y.unsqueeze(dim=0)\n",
    "\n",
    "\n",
    "dataset = Dataset(n_samples=100, x_size=5, seed=100)\n",
    "\n",
    "print(f\"x: {dataset[0][0]}\")\n",
    "print(f\"y: {dataset[0][1].item():.4f}\")"
   ]
  },
  {
   "cell_type": "markdown",
   "id": "80ad8aa6",
   "metadata": {},
   "source": [
    "## Create a model"
   ]
  },
  {
   "cell_type": "code",
   "execution_count": null,
   "id": "5775525d",
   "metadata": {},
   "outputs": [],
   "source": [
    "class Model(nn.Module):\n",
    "    def __init__(self, x_size, hidden_size, seed=None):\n",
    "        super().__init__()\n",
    "        if seed is not None:\n",
    "            torch.manual_seed(seed)\n",
    "        self.lin1 = nn.Linear(x_size, hidden_size)\n",
    "        self.relu = nn.ReLU()\n",
    "        self.lin2 = nn.Linear(hidden_size, 1)\n",
    "\n",
    "    def forward(self, x):\n",
    "        return self.lin2(self.relu(self.lin1(x)))\n",
    "\n",
    "\n",
    "model = Model(x_size=5, hidden_size=3, seed=100)"
   ]
  },
  {
   "cell_type": "markdown",
   "id": "6d93b9f2",
   "metadata": {},
   "source": [
    "## Init IGC attribution method"
   ]
  },
  {
   "cell_type": "code",
   "execution_count": null,
   "id": "14f5f5f0",
   "metadata": {},
   "outputs": [],
   "source": [
    "from igc import IntGradCorr\n",
    "\n",
    "attr = IntGradCorr(model, dataset)"
   ]
  },
  {
   "cell_type": "markdown",
   "id": "47d4f5c7",
   "metadata": {},
   "source": [
    "## Compute IGC attributions"
   ]
  },
  {
   "cell_type": "code",
   "execution_count": null,
   "id": "e42b96f1",
   "metadata": {},
   "outputs": [],
   "source": [
    "igc = attr.compute(           # Compute IGC attributions\n",
    "    x_0=8,                    # with 8 random baselines sampled from the dataset\n",
    "    y_idx=None,               # for all model output components\n",
    "    n_steps=64,               # with 64 steps for each individual supporting IG\n",
    "    batch_size=(4, 8, None),  # with 4 'x' samples, 8 baselines, and all y\n",
    "    x_seed=100,               #   components per batch. It could also be defined\n",
    "    x_0_seed=101,             #   by an integer as: batch_size=32\n",
    "    n_x=None,                 # and 'x' sampled over the whole dataset\n",
    ")\n",
    "\n",
    "print()\n",
    "print(igc)"
   ]
  }
 ],
 "metadata": {
  "kernelspec": {
   "display_name": ".venv",
   "language": "python",
   "name": "python3"
  },
  "language_info": {
   "name": "python",
   "version": "3.13.7"
  }
 },
 "nbformat": 4,
 "nbformat_minor": 5
}
