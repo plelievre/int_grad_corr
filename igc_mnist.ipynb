{
 "cells": [
  {
   "cell_type": "markdown",
   "metadata": {},
   "source": [
    "# Integrated Gradient Correlation\n",
    "## Example on a classification task with the MNIST dataset"
   ]
  },
  {
   "cell_type": "markdown",
   "metadata": {},
   "source": [
    "### Init dataset and model"
   ]
  },
  {
   "cell_type": "code",
   "execution_count": null,
   "metadata": {},
   "outputs": [],
   "source": [
    "import numpy as np\n",
    "from mnist.model_mnist_1v0 import Dataset, Model\n",
    "\n",
    "parameters = {\n",
    "    'conv_sizes': (64, 128),\n",
    "    'lin_sizes': (128, 64, 32, 16),\n",
    "    'act_type': 'mish'}\n",
    "\n",
    "dataset = Dataset()\n",
    "model = Model(\n",
    "    dataset, model_name='mnist_1v0_a000', trainable=True, device='cpu',\n",
    "    parameters=parameters)"
   ]
  },
  {
   "cell_type": "markdown",
   "metadata": {},
   "source": [
    "### Train model"
   ]
  },
  {
   "cell_type": "code",
   "execution_count": null,
   "metadata": {},
   "outputs": [],
   "source": [
    "model.train(n_epoch=400)"
   ]
  },
  {
   "cell_type": "markdown",
   "metadata": {},
   "source": [
    "### Compute model accuracy"
   ]
  },
  {
   "cell_type": "code",
   "execution_count": null,
   "metadata": {},
   "outputs": [],
   "source": [
    "val_nll, val_ac = model.score()\n",
    "print(np.round(val_nll, 3), np.round(val_ac, 5))"
   ]
  },
  {
   "cell_type": "markdown",
   "metadata": {},
   "source": [
    "### Compute Integrated Gradient Correlation"
   ]
  },
  {
   "cell_type": "code",
   "execution_count": null,
   "metadata": {},
   "outputs": [],
   "source": [
    "_ = model.int_grad_corr_val(x_0=32, n_steps=32, check_error=True)"
   ]
  },
  {
   "cell_type": "markdown",
   "metadata": {},
   "source": [
    "### Visualize IGC maps"
   ]
  },
  {
   "cell_type": "code",
   "execution_count": null,
   "metadata": {},
   "outputs": [],
   "source": [
    "from mnist.figures_1v0 import mnist_img\n",
    "\n",
    "mean_digits = dataset.compute_mean_digits()\n",
    "diff_probs = dataset.digit_diff_probabilities()\n",
    "int_grad_corr = np.load(model.get_result_path('int_grad_corr.npy'))\n",
    "\n",
    "fig = mnist_img(int_grad_corr, contour_m=mean_digits, contour_p=diff_probs)"
   ]
  },
  {
   "cell_type": "markdown",
   "metadata": {},
   "source": [
    "### Plot summaries of IGC maps"
   ]
  },
  {
   "cell_type": "code",
   "execution_count": null,
   "metadata": {},
   "outputs": [],
   "source": [
    "from mnist.figures_1v0 import mnist_plot\n",
    "\n",
    "int_grad_corr = np.load(model.get_result_path('int_grad_corr.npy'))\n",
    "\n",
    "mean_digits = dataset.compute_mean_digits()\n",
    "mask_1 = mean_digits > np.quantile(\n",
    "    mean_digits, 0.8, axis=(1, 2), keepdims=True)\n",
    "inside = np.sum(int_grad_corr * mask_1, axis=(1, 2))\n",
    "outside = np.sum(int_grad_corr * np.invert(mask_1), axis=(1, 2))\n",
    "\n",
    "diff_probs = dataset.digit_diff_probabilities()\n",
    "mask_2 = diff_probs > 0.5\n",
    "high = np.sum(int_grad_corr * mask_2, axis=(1, 2))\n",
    "low = np.sum(int_grad_corr * np.invert(mask_2), axis=(1, 2))\n",
    "\n",
    "fig = mnist_plot(inside, outside, low, high)"
   ]
  },
  {
   "cell_type": "markdown",
   "metadata": {},
   "source": [
    "### Visualize Integrated Gradients for few samples"
   ]
  },
  {
   "cell_type": "code",
   "execution_count": null,
   "metadata": {},
   "outputs": [],
   "source": [
    "from mnist.figures_1v0 import mnist_img_10\n",
    "\n",
    "x = dataset.get_10_digits(seed=103)\n",
    "int_grad = np.zeros((\n",
    "    dataset.n_digits, dataset.n_digits, dataset.img_size,\n",
    "    dataset.img_size), dtype=np.float32)\n",
    "for i in range(dataset.n_digits):\n",
    "    int_grad[i] += model.int_grad_1_x(x[i], x_0=32, n_steps=32)[2]\n",
    "\n",
    "fig = mnist_img_10(int_grad, contour_m=x)"
   ]
  },
  {
   "cell_type": "code",
   "execution_count": null,
   "metadata": {},
   "outputs": [],
   "source": [
    "from mnist.figures_1v0 import mnist_img_10\n",
    "\n",
    "digit = 4\n",
    "x = dataset.get_10_digits(digit=digit, seed=103)\n",
    "int_grad = np.zeros((\n",
    "    dataset.n_digits, dataset.n_digits, dataset.img_size,\n",
    "    dataset.img_size), dtype=np.float32)\n",
    "for i in range(dataset.n_digits):\n",
    "    int_grad[i] += model.int_grad_1_x(x[i], x_0=32, n_steps=32)[2]\n",
    "\n",
    "fig = mnist_img_10(int_grad, contour_m=x, digit=digit)"
   ]
  },
  {
   "cell_type": "markdown",
   "metadata": {},
   "source": [
    "### Compute Baseline Shapley Correlation"
   ]
  },
  {
   "cell_type": "code",
   "execution_count": null,
   "metadata": {},
   "outputs": [],
   "source": [
    "_ = model.bsl_shap_corr_val(x_0=32, n_iter=32, check_error=True, n_samples=1000)"
   ]
  },
  {
   "cell_type": "markdown",
   "metadata": {},
   "source": [
    "### Visualize BSC maps"
   ]
  },
  {
   "cell_type": "code",
   "execution_count": null,
   "metadata": {},
   "outputs": [],
   "source": [
    "from mnist.figures_1v0 import mnist_img\n",
    "\n",
    "mean_digits = dataset.compute_mean_digits()\n",
    "diff_probs = dataset.digit_diff_probabilities()\n",
    "bsl_shap_corr = np.load(model.get_result_path('bsl_shap_corr.npy'))\n",
    "\n",
    "fig = mnist_img(bsl_shap_corr, contour_m=mean_digits, contour_p=diff_probs)"
   ]
  },
  {
   "cell_type": "markdown",
   "metadata": {},
   "source": [
    "### Model without convolution layers"
   ]
  },
  {
   "cell_type": "code",
   "execution_count": null,
   "metadata": {},
   "outputs": [],
   "source": [
    "import numpy as np\n",
    "from mnist.model_mnist_1v0 import Dataset, Model\n",
    "\n",
    "parameters = {\n",
    "    'conv_sizes': None,\n",
    "    'lin_sizes': (128, 64, 32, 16),\n",
    "    'act_type': 'mish'}\n",
    "\n",
    "dataset = Dataset()\n",
    "model = Model(\n",
    "    dataset, model_name='mnist_1v0_a100', trainable=True, device='cpu',\n",
    "    parameters=parameters)"
   ]
  },
  {
   "cell_type": "markdown",
   "metadata": {},
   "source": [
    "### Model with ReLU activation functions"
   ]
  },
  {
   "cell_type": "code",
   "execution_count": null,
   "metadata": {},
   "outputs": [],
   "source": [
    "import numpy as np\n",
    "from mnist.model_mnist_1v0 import Dataset, Model\n",
    "\n",
    "parameters = {\n",
    "    'conv_sizes': (64, 128),\n",
    "    'lin_sizes': (128, 64, 32, 16),\n",
    "    'act_type': 'relu'}\n",
    "\n",
    "dataset = Dataset()\n",
    "model = Model(\n",
    "    dataset, model_name='mnist_1v0_a200', trainable=True, device='cpu',\n",
    "    parameters=parameters)"
   ]
  }
 ],
 "metadata": {
  "kernelspec": {
   "display_name": "Python 3",
   "language": "python",
   "name": "python3"
  },
  "language_info": {
   "codemirror_mode": {
    "name": "ipython",
    "version": 3
   },
   "file_extension": ".py",
   "mimetype": "text/x-python",
   "name": "python",
   "nbconvert_exporter": "python",
   "pygments_lexer": "ipython3",
   "version": "3.10.13"
  }
 },
 "nbformat": 4,
 "nbformat_minor": 2
}
